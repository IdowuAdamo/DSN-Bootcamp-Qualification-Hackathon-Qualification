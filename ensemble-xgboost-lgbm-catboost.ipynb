{
 "cells": [
  {
   "cell_type": "code",
   "execution_count": null,
   "metadata": {
    "_cell_guid": "b1076dfc-b9ad-4769-8c92-a6c4dae69d19",
    "_uuid": "8f2839f25d086af736a60e9eeb907d3b93b6e0e5",
    "execution": {
     "iopub.execute_input": "2025-09-13T14:28:41.356554Z",
     "iopub.status.busy": "2025-09-13T14:28:41.355946Z",
     "iopub.status.idle": "2025-09-13T14:28:48.779081Z",
     "shell.execute_reply": "2025-09-13T14:28:48.778341Z",
     "shell.execute_reply.started": "2025-09-13T14:28:41.356530Z"
    },
    "trusted": true
   },
   "outputs": [],
   "source": [
    "import numpy as np \n",
    "import pandas as pd \n",
    "import polars as pl\n",
    "import os\n",
    "import optuna\n",
    "import matplotlib.pyplot as plt\n",
    "import seaborn as sns\n",
    "import re\n",
    "import warnings\n",
    "import seaborn as sns\n",
    "#import plotly.express as px\n",
    "import matplotlib.pyplot as plt\n",
    "from sklearn.model_selection import KFold\n",
    "#from matplotlib.colors import LinearSegmentedColormap\n",
    "import lightgbm as lgb\n",
    "from xgboost import XGBRegressor\n",
    "from lightgbm import log_evaluation, early_stopping\n",
    "from catboost import CatBoostRegressor, Pool\n",
    "\n",
    "warnings.simplefilter('ignore') \n",
    "\n",
    "for dirname, _, filenames in os.walk('/kaggle/input'):\n",
    "    for filename in filenames:\n",
    "        print(os.path.join(dirname, filename)) "
   ]
  },
  {
   "cell_type": "code",
   "execution_count": null,
   "metadata": {
    "execution": {
     "iopub.execute_input": "2025-09-13T16:31:35.123126Z",
     "iopub.status.busy": "2025-09-13T16:31:35.122529Z",
     "iopub.status.idle": "2025-09-13T16:31:35.759446Z",
     "shell.execute_reply": "2025-09-13T16:31:35.758646Z",
     "shell.execute_reply.started": "2025-09-13T16:31:35.123102Z"
    },
    "trusted": true
   },
   "outputs": [],
   "source": [
    "%%time\n",
    "\n",
    "train = pd.read_csv('/kaggle/input/hackathon-qualification/archive/train.csv')\n",
    "test = pd.read_csv('/kaggle/input/hackathon-qualification/archive/test.csv')\n",
    "original = pd.read_csv('/kaggle/input/used-car-price-prediction-dataset/used_cars.csv') \n",
    "\n",
    "\n",
    "original[['milage', 'price']] = original[['milage', 'price']].map(\n",
    "    lambda x: int(''.join(re.findall(r'\\d+', x))))\n",
    "\n",
    "train = pd.concat([train, original], ignore_index=True)  "
   ]
  },
  {
   "cell_type": "code",
   "execution_count": null,
   "metadata": {
    "execution": {
     "iopub.execute_input": "2025-09-13T14:31:23.084783Z",
     "iopub.status.busy": "2025-09-13T14:31:23.083947Z",
     "iopub.status.idle": "2025-09-13T14:31:23.088090Z",
     "shell.execute_reply": "2025-09-13T14:31:23.087322Z",
     "shell.execute_reply.started": "2025-09-13T14:31:23.084755Z"
    },
    "trusted": true
   },
   "outputs": [],
   "source": [
    "# original.sample(n=5, random_state=42)  "
   ]
  },
  {
   "cell_type": "code",
   "execution_count": null,
   "metadata": {
    "execution": {
     "iopub.execute_input": "2025-09-13T14:31:35.645887Z",
     "iopub.status.busy": "2025-09-13T14:31:35.645166Z",
     "iopub.status.idle": "2025-09-13T14:31:35.755092Z",
     "shell.execute_reply": "2025-09-13T14:31:35.754158Z",
     "shell.execute_reply.started": "2025-09-13T14:31:35.645842Z"
    },
    "trusted": true
   },
   "outputs": [],
   "source": [
    "train.info() "
   ]
  },
  {
   "cell_type": "code",
   "execution_count": null,
   "metadata": {
    "execution": {
     "iopub.execute_input": "2025-09-13T14:32:08.378002Z",
     "iopub.status.busy": "2025-09-13T14:32:08.377285Z",
     "iopub.status.idle": "2025-09-13T14:32:08.428540Z",
     "shell.execute_reply": "2025-09-13T14:32:08.427853Z",
     "shell.execute_reply.started": "2025-09-13T14:32:08.377978Z"
    },
    "trusted": true
   },
   "outputs": [],
   "source": [
    "train.describe().T "
   ]
  },
  {
   "cell_type": "code",
   "execution_count": null,
   "metadata": {
    "trusted": true
   },
   "outputs": [],
   "source": []
  },
  {
   "cell_type": "markdown",
   "metadata": {},
   "source": [
    "# EDA"
   ]
  },
  {
   "cell_type": "code",
   "execution_count": null,
   "metadata": {
    "execution": {
     "iopub.execute_input": "2025-09-13T14:45:24.107124Z",
     "iopub.status.busy": "2025-09-13T14:45:24.106558Z",
     "iopub.status.idle": "2025-09-13T14:45:26.881647Z",
     "shell.execute_reply": "2025-09-13T14:45:26.881002Z",
     "shell.execute_reply.started": "2025-09-13T14:45:24.107101Z"
    },
    "trusted": true
   },
   "outputs": [],
   "source": [
    "plt.figure(figsize=(12, 8))\n",
    "sns.barplot(x='brand', y='price', data= train) \n",
    "plt.title('Average Price by Car Brand')\n",
    "plt.xlabel('Car brand')\n",
    "plt.ylabel('Average Price')\n",
    "plt.xticks(rotation=90)  \n",
    "plt.show() "
   ]
  },
  {
   "cell_type": "code",
   "execution_count": null,
   "metadata": {
    "execution": {
     "iopub.execute_input": "2025-09-13T14:45:58.606435Z",
     "iopub.status.busy": "2025-09-13T14:45:58.605830Z",
     "iopub.status.idle": "2025-09-13T14:45:59.525952Z",
     "shell.execute_reply": "2025-09-13T14:45:59.525210Z",
     "shell.execute_reply.started": "2025-09-13T14:45:58.606415Z"
    },
    "trusted": true
   },
   "outputs": [],
   "source": [
    "plt.figure(figsize=(14, 8))\n",
    "sns.boxplot(x='price', y='transmission', data= train) \n",
    "plt.title('Box Plot of Price by Transmission Type')\n",
    "plt.xlabel('Transmission')\n",
    "plt.ylabel('Price')\n",
    "plt.xticks(rotation=90) \n",
    "plt.show() "
   ]
  },
  {
   "cell_type": "code",
   "execution_count": null,
   "metadata": {
    "execution": {
     "iopub.execute_input": "2025-09-13T14:46:37.078520Z",
     "iopub.status.busy": "2025-09-13T14:46:37.078235Z",
     "iopub.status.idle": "2025-09-13T14:46:37.280242Z",
     "shell.execute_reply": "2025-09-13T14:46:37.279668Z",
     "shell.execute_reply.started": "2025-09-13T14:46:37.078499Z"
    },
    "trusted": true
   },
   "outputs": [],
   "source": [
    "plt.figure(figsize=(10, 6))\n",
    "sns.barplot(x='accident', y='price', data= train, errorbar=None) \n",
    "plt.title('Average Price by Accident History')\n",
    "plt.xlabel('Accident History')\n",
    "plt.ylabel('Average Price')\n",
    "plt.xticks(rotation=45)\n",
    "plt.show() "
   ]
  },
  {
   "cell_type": "code",
   "execution_count": null,
   "metadata": {
    "execution": {
     "iopub.execute_input": "2025-09-13T14:46:57.615001Z",
     "iopub.status.busy": "2025-09-13T14:46:57.614380Z",
     "iopub.status.idle": "2025-09-13T14:46:58.032552Z",
     "shell.execute_reply": "2025-09-13T14:46:58.031786Z",
     "shell.execute_reply.started": "2025-09-13T14:46:57.614980Z"
    },
    "trusted": true
   },
   "outputs": [],
   "source": [
    "plt.figure(figsize=(10, 6))\n",
    "sns.countplot(x='fuel_type', data= train) \n",
    "plt.title('Count of Cars by Fuel Type')\n",
    "plt.xlabel('Fuel Type')\n",
    "plt.ylabel('Count')\n",
    "plt.xticks(rotation=45) \n",
    "plt.show() "
   ]
  },
  {
   "cell_type": "code",
   "execution_count": null,
   "metadata": {
    "execution": {
     "iopub.execute_input": "2025-09-13T14:47:15.806482Z",
     "iopub.status.busy": "2025-09-13T14:47:15.805938Z",
     "iopub.status.idle": "2025-09-13T14:47:16.385506Z",
     "shell.execute_reply": "2025-09-13T14:47:16.384700Z",
     "shell.execute_reply.started": "2025-09-13T14:47:15.806460Z"
    },
    "trusted": true
   },
   "outputs": [],
   "source": [
    "plt.figure(figsize=(10, 6))\n",
    "sns.countplot(x='transmission', data=  train)  \n",
    "plt.title('Count of Cars by Transmission Type')\n",
    "plt.xlabel('Transmission')\n",
    "plt.ylabel('Count')\n",
    "plt.xticks(rotation=90)\n",
    "plt.show() "
   ]
  },
  {
   "cell_type": "code",
   "execution_count": null,
   "metadata": {
    "execution": {
     "iopub.execute_input": "2025-09-13T14:48:01.475597Z",
     "iopub.status.busy": "2025-09-13T14:48:01.475253Z",
     "iopub.status.idle": "2025-09-13T14:48:01.631231Z",
     "shell.execute_reply": "2025-09-13T14:48:01.630566Z",
     "shell.execute_reply.started": "2025-09-13T14:48:01.475570Z"
    },
    "trusted": true
   },
   "outputs": [],
   "source": [
    "categorical_columns = train.select_dtypes(include=['object']).columns\n",
    "unique_values = {col: train[col].nunique() for col in categorical_columns}\n",
    "for col, unique_count in unique_values.items():\n",
    "    print(f\"{col}: {unique_count} unique values\") "
   ]
  },
  {
   "cell_type": "code",
   "execution_count": null,
   "metadata": {
    "execution": {
     "iopub.execute_input": "2025-09-13T14:54:10.519833Z",
     "iopub.status.busy": "2025-09-13T14:54:10.519588Z",
     "iopub.status.idle": "2025-09-13T14:54:12.781690Z",
     "shell.execute_reply": "2025-09-13T14:54:12.780979Z",
     "shell.execute_reply.started": "2025-09-13T14:54:10.519816Z"
    },
    "trusted": true
   },
   "outputs": [],
   "source": [
    "plt.figure(figsize=(12, 8))\n",
    "sns.barplot(x='model_year', y='price', data= train)\n",
    "#sns.regplot(x='model_year', y='price', data= train)\n",
    "plt.title('Average Car Price by Model Year')\n",
    "plt.xlabel('Model Year')\n",
    "plt.ylabel('Average Price')\n",
    "plt.xticks(rotation=90)  \n",
    "plt.show() "
   ]
  },
  {
   "cell_type": "code",
   "execution_count": null,
   "metadata": {
    "execution": {
     "iopub.execute_input": "2025-09-13T14:54:41.136074Z",
     "iopub.status.busy": "2025-09-13T14:54:41.135801Z",
     "iopub.status.idle": "2025-09-13T14:54:41.152017Z",
     "shell.execute_reply": "2025-09-13T14:54:41.151368Z",
     "shell.execute_reply.started": "2025-09-13T14:54:41.136056Z"
    },
    "trusted": true
   },
   "outputs": [],
   "source": [
    "train['ext_col'].unique() "
   ]
  },
  {
   "cell_type": "code",
   "execution_count": null,
   "metadata": {
    "trusted": true
   },
   "outputs": [],
   "source": []
  },
  {
   "cell_type": "markdown",
   "metadata": {},
   "source": [
    "# Feature Engineering"
   ]
  },
  {
   "cell_type": "code",
   "execution_count": null,
   "metadata": {
    "execution": {
     "iopub.execute_input": "2025-09-13T14:55:35.649785Z",
     "iopub.status.busy": "2025-09-13T14:55:35.649157Z",
     "iopub.status.idle": "2025-09-13T14:55:35.654306Z",
     "shell.execute_reply": "2025-09-13T14:55:35.653500Z",
     "shell.execute_reply.started": "2025-09-13T14:55:35.649761Z"
    },
    "trusted": true
   },
   "outputs": [],
   "source": [
    "def extract_age_features(df):\n",
    "    \"\"\"\n",
    "    Extracts age-related features from the dataset.\n",
    "    \"\"\"\n",
    "    current_year = 2024\n",
    "    df['Car_Age'] = current_year - df['model_year']\n",
    "    # Avoid division by zero\n",
    "    df['Car_Age'] = df['Car_Age'].replace(0, 1)\n",
    "    df['Mileage_per_Year'] = df['milage'] / df['Car_Age']\n",
    "    #df['milage_with_age'] = df.groupby('Car_Age')['milage'].transform('mean')\n",
    "    #df['Mileage_per_Year_with_age'] = df.groupby('Car_Age')['Mileage_per_Year'].transform('mean')\n",
    "    return df \n",
    "\n",
    "# remove 'model_year', 'milage' "
   ]
  },
  {
   "cell_type": "code",
   "execution_count": null,
   "metadata": {
    "execution": {
     "iopub.execute_input": "2025-09-13T14:57:22.297053Z",
     "iopub.status.busy": "2025-09-13T14:57:22.296420Z",
     "iopub.status.idle": "2025-09-13T14:57:22.302967Z",
     "shell.execute_reply": "2025-09-13T14:57:22.302150Z",
     "shell.execute_reply.started": "2025-09-13T14:57:22.297012Z"
    },
    "trusted": true
   },
   "outputs": [],
   "source": [
    "def extract_engine_trans(df):\n",
    "    df = df.copy()\n",
    "    df['transmission'] = df['transmission'].str.lower()\n",
    "    df['horsepower'] = df['engine'].str.extract(r'(\\d+\\.\\d+)(?=HP)').astype(float)\n",
    "    df['engine_size'] = df['engine'].str.extract(r'(\\d+\\.\\d+)(?=L)').astype(float)\n",
    "    df['cylinders'] = df['engine'].str.extract(r'(\\d+)\\s(Cylinder|V\\d|Straight)')[0].astype(float)\n",
    "    # Calculate Power_to_Weight_Ratio, handling division by zero or None\n",
    "    df['power_to_weight_ratio'] = df.apply(\n",
    "        lambda row: row['horsepower'] / row['engine_size'] \n",
    "        if pd.notnull(row['horsepower']) and pd.notnull(row['engine_size']) and row['engine_size'] != 0 \n",
    "        else None, \n",
    "        axis=1\n",
    "    )\n",
    "    \n",
    "    df['transmission_type'] = df['transmission'].apply(lambda x: \n",
    "                                                      'manual' if 'm/t' in x or 'manual' in x or 'mt' in x else\n",
    "                                                      'automatic' if 'a/t' in x or 'automatic' in x or 'at' in x else\n",
    "                                                      'CVT' if 'CVT' in x else\n",
    "                                                      'Other')\n",
    "    return df\n",
    "\n",
    "\n",
    "# remove 'engine', 'transmission' "
   ]
  },
  {
   "cell_type": "code",
   "execution_count": null,
   "metadata": {
    "execution": {
     "iopub.execute_input": "2025-09-13T14:57:35.447797Z",
     "iopub.status.busy": "2025-09-13T14:57:35.447522Z",
     "iopub.status.idle": "2025-09-13T14:57:35.463094Z",
     "shell.execute_reply": "2025-09-13T14:57:35.462244Z",
     "shell.execute_reply.started": "2025-09-13T14:57:35.447775Z"
    },
    "trusted": true
   },
   "outputs": [],
   "source": [
    "train['brand'].unique() "
   ]
  },
  {
   "cell_type": "code",
   "execution_count": null,
   "metadata": {
    "execution": {
     "iopub.execute_input": "2025-09-13T14:58:13.340220Z",
     "iopub.status.busy": "2025-09-13T14:58:13.339947Z",
     "iopub.status.idle": "2025-09-13T14:58:13.345050Z",
     "shell.execute_reply": "2025-09-13T14:58:13.344292Z",
     "shell.execute_reply.started": "2025-09-13T14:58:13.340200Z"
    },
    "trusted": true
   },
   "outputs": [],
   "source": [
    "def luxury_feature(df):\n",
    "    \n",
    "    luxury_brands =  ['Mercedes-Benz', 'BMW', 'Audi', 'Porsche', 'Land', \n",
    "                    'Lexus', 'Jaguar', 'Bentley', 'Maserati', 'Lamborghini', \n",
    "                    'Rolls-Royce', 'Ferrari', 'McLaren', 'Aston', 'Maybach']\n",
    "    df['is_luxury_brand'] = df['brand'].apply(lambda x: 1 if x in luxury_brands else 0)\n",
    "\n",
    "    return df\n",
    "\n",
    "# remove 'brand'"
   ]
  },
  {
   "cell_type": "code",
   "execution_count": null,
   "metadata": {
    "execution": {
     "iopub.execute_input": "2025-09-13T15:18:53.982903Z",
     "iopub.status.busy": "2025-09-13T15:18:53.982634Z",
     "iopub.status.idle": "2025-09-13T15:18:53.996034Z",
     "shell.execute_reply": "2025-09-13T15:18:53.995195Z",
     "shell.execute_reply.started": "2025-09-13T15:18:53.982885Z"
    },
    "trusted": true
   },
   "outputs": [],
   "source": [
    "def extract_color(df):\n",
    "    black_colors = [\n",
    "    'Black', 'Santorini Black Metallic', 'Black Clearcoat', 'Black Obsidian', \n",
    "    'Mythos Black Metallic', 'Diamond Black', 'Shadow Black', 'Agate Black Metallic', \n",
    "    'Midnight Black Metallic', 'Black Raven', 'Obsidian Black Metallic', 'Magnetite Black Metallic', \n",
    "    'Onyx Black', 'Santorin Black', 'DB Black Clearcoat', 'Black Sapphire Metallic', \n",
    "    'Ultra Black', 'Magnetic Black', 'Crystal Black Silica', 'Ebony Black', \n",
    "    'Jet Black Mica', 'Twilight Black', 'Carbon Black Metallic', 'Beluga Black', \n",
    "    'Super Black', 'Phantom Black', 'Black Forest Green', 'Mosaic Black Metallic', \n",
    "    'Midnight Black', 'Crystal Black Pearl', 'BLACK', 'Nero Daytona', \n",
    "    'Obsidian', 'Black Noir Pearl', 'Aurora Black', 'Vik Black', \n",
    "    'Santorini Black', 'Brilliant Black', 'Crystal Black', 'Orca Black Metallic'\n",
    "    ]\n",
    "\n",
    "    white_colors = [\n",
    "    'White', 'Summit White', 'designo Diamond White Metallic', 'Bright White Clearcoat', \n",
    "    'Dazzling White', 'White Clearcoat', 'Alpine White', 'Snowflake White Pearl', \n",
    "    'Pure White', 'Ibis White', 'Wind Chill Pearl', 'Platinum White Pearl', \n",
    "    'Fuji White', 'White Frost Tri-Coat', 'Glacial White Pearl', 'Oxford White', \n",
    "    'Eminent White Pearl', 'Ultra White', 'Snow White Pearl', 'designo Diamond White Bright', \n",
    "    'Emin White', 'Super White', 'White Diamond Tri-Coat', 'Alta White', \n",
    "    'Mineral White', 'Quartz White', 'White Platinum Tri-Coat Metallic', 'Balloon White', \n",
    "    'Oryx White Prl', 'Matte White', 'White Knuckle Clearcoat', 'Diamond White', \n",
    "    'Pearl White', 'Star White', 'Crystal White Pearl', 'Frozen White', \n",
    "    'MANUFAKTUR Diamond White Bright', 'Glacier White'\n",
    "    ] \n",
    "\n",
    "    gray_colors = [\n",
    "    'Gray', 'Granite Crystal Clearcoat Metallic', 'Magnetic Gray Clearcoat', 'Eiger Grey Metallic', \n",
    "    'Nebula Gray Pearl', 'Daytona Gray', 'Shadow Gray Metallic', 'Typhoon Gray', \n",
    "    'Magnetite Gray Metallic', 'Daytona Gray Pearl Effect', 'Magnetic Metallic', 'Dark Graphite Metallic', \n",
    "    'Quartzite Grey Metallic', 'Eiger Grey', 'Graphite Grey Metallic', 'Donington Grey Metallic', \n",
    "    'Daytona Gray Pearl Effect w/ Black Roof', 'Hampton Gray', 'Typhoon Gray Metallic', 'Stone Gray Metallic', \n",
    "    'Nightfall Gray Metallic', 'Brands Hatch Gray Metallic', 'Machine Gray Metallic', 'Carbonized Gray Metallic', \n",
    "    'Chronos Gray', 'Baltic Gray', 'Dark Slate Metallic', 'Arctic Gray Metallic', \n",
    "    'Platinum Gray Metallic', 'Granite Crystal Metallic Clearcoat', 'Gun Metallic', 'Thunder Gray', \n",
    "    'Dark Gray Metallic', 'Portofino Gray', 'Polymetal Gray Metallic', 'Graphite Grey', 'Arctic Gray Metallic', 'Platinum Gray Metallic', 'Volcano Grey Metallic', 'Ironman Silver', \n",
    "    'Thunder Gray', 'Aventurine Green Metallic'\n",
    "    ] \n",
    "\n",
    "    silver_colors = [\n",
    "    'Silver', 'Silver Ice Metallic', 'Sparkling Silver', 'Sonic Silver Metallic', \n",
    "    'Atomic Silver', 'Titanium Silver', 'Brilliant Silver Metallic', 'Glacier Silver Metallic', \n",
    "    'Silver Zynith', 'Ingot Silver Metallic', 'Tungsten Metallic', 'Selenite Gray Metallic', \n",
    "    'Cirrus Silver Metallic', 'Silver Radiance', 'Iconic Silver Metallic', 'Billet Silver Metallic Clearcoat', \n",
    "    'Rift Metallic', 'Florett Silver', 'Ice Silver Metallic', 'Iridium Silver Metallic', \n",
    "    'Indus Silver', 'Silver Flare Metallic', 'Silver Mist', 'Quicksilver Metallic', \n",
    "    'Silky Silver', 'Reflex Silver', 'Ironman Silver'\n",
    "    ]\n",
    "\n",
    "    red_colors = [\n",
    "    'Red', 'Cameron Green', 'Tim David', 'Firecracker Red Clearcoat', 'Ruby Flare Pearl', \n",
    "    'Firenze Red', 'Tango Red Metallic', 'Siren Red Tintcoat', 'Delmonico Red Pearlcoat', \n",
    "    'Passion Red', 'Infrared Tintcoat', 'Red Quartz Tintcoat', 'Flame Red Clearcoat', \n",
    "    'Velvet Red Pearlcoat', 'Matador Red Mica', 'Rosso Corsa', 'Octane Red Pearlcoat', \n",
    "    'Remington Red Metallic', 'Hyper Red', 'Cayenne Red Tintcoat', 'Radiant Red Metallic II', \n",
    "    'Redline Red', 'Scarlet Ember', 'Ruby Red Metallic Tinted Clearcoat', 'Crimson Red Tintcoat', \n",
    "    'Red Multi', 'Rosso', 'Jupiter Red', 'Red Obsession', 'Ember Pearlcoat', \n",
    "    'Sangria Red', 'Remington Red Metallic'\n",
    "    ] \n",
    "\n",
    "    blue_colors = [\n",
    "    'Deep Crystal Blue Mica','Patriot Blue Pearlcoat','Blue','Antimatter Blue Metallic','Blu','Shoreline Blue Pearl',\n",
    "    'Gentian Blue Metallic','Phytonic Blue Metallic','Horizon Blue','Northsky Blue Metallic','Caspian Blue',\n",
    "    'Pacific Blue Metallic','Vega Blue','Electric Blue Metallic','Glacier Blue Metallic','Blue Metallic',\n",
    "    'Twilight Blue Metallic','Anodized Blue Metallic','Blue Caelum', 'Midnight Blue Metallic'\n",
    "    ]\n",
    "\n",
    "    def condition_ext(color):\n",
    "        if color in black_colors:\n",
    "            return \"black\"\n",
    "        elif color in white_colors:\n",
    "            return \"white\"\n",
    "        elif color in gray_colors:\n",
    "            return \"gray\"\n",
    "        elif color in silver_colors:\n",
    "            return \"silver\"\n",
    "        elif color in red_colors:\n",
    "            return \"red\"\n",
    "        elif color in blue_colors:\n",
    "            return \"blue\"\n",
    "        else:\n",
    "            return \"uncommon\"\n",
    "\n",
    "\n",
    "    df['ext_col'] = df['ext_col'].apply(condition_ext)\n",
    "    \n",
    "    \n",
    "    Black= [\n",
    "        'Black', 'Jet Black', 'BLACK', 'Global Black', 'Black Onyx',\n",
    "        'Sardar Brown', 'Black/Gun Metal', 'Charcoal Black', \n",
    "        'Ebony Black', 'Carbon Black', 'Black w/Red Stitching',\n",
    "        'Blk', 'Obsidian Black', 'Black/Graphite', 'Black/Saddle Brown',\n",
    "        'Black / Brown', 'Titan Black', 'AMG Black', 'Black / Gray',\n",
    "        'Black / Stone Grey', 'Black / Express Red', 'Black / Saddle',\n",
    "        'Black / Pimento', 'Ebony', 'Ebony / Ebony Accents',\n",
    "        'Ebony/Light Oyster Stitch'\n",
    "    ]\n",
    "    White= [\n",
    "        'White', 'Grace White', 'Ivory / Ebony', 'WHITE'\n",
    "    ]\n",
    "\n",
    "    Gray= [\n",
    "        'Gray', 'Dark Gray', 'Light Gray', 'Medium Gray', \n",
    "        'Medium Earth Gray', 'Slate', 'Charcoal', 'Graphite',\n",
    "        'Ebony.', 'Medium Light Camel', 'Mistral Gray / Raven',\n",
    "        'Medium Ash Gray', 'Light Platinum / Jet Black', \n",
    "        'Parchment', 'Parchment.', 'Graystone', 'Ash'\n",
    "    ]\n",
    "    Beige= [\n",
    "        'Beige', 'Canberra Beige', 'Macchiato Beige/Black', \n",
    "        'Whisper Beige', 'Silk Beige/Espresso Brown', 'Saiga Beige',\n",
    "        'Sand Beige', 'Silk Beige/Black', 'Cappuccino', \n",
    "        'Pearl Beige', 'Tan/Ebony/Ebony', 'Tan/Ebony', \n",
    "        'Camel', 'Light Titanium'\n",
    "    ]\n",
    "    Brown= [\n",
    "        'Brown', 'Chestnut', 'Caramel', 'Saddle Brown',\n",
    "        'Walnut', 'Espresso', 'Dark Galvanized', 'Cocoa / Dune', \n",
    "        'Giallo Taurus / Nero Ade', 'Mocha', 'Mountain Brown',\n",
    "        'Brandy', 'Roast', 'Sahara Tan', 'Nougat Brown',\n",
    "        'Medium Dark Slate', 'Medium Stone', 'Tension'\n",
    "    ]\n",
    "\n",
    "    Red=[\n",
    "        'Red', 'Rioja Red', 'Adrenaline Red', 'Magma Red',\n",
    "        'Pimento Red w/Ebony', 'Classic Red', 'Hotspur', \n",
    "        'Red/Black', 'Black / Express Red'\n",
    "    ] \n",
    "\n",
    "    def condition_int(color):\n",
    "        if color in Black:\n",
    "            return \"black\"\n",
    "        elif color in White:\n",
    "            return \"white\"\n",
    "        elif color in Gray:\n",
    "            return \"gray\"\n",
    "        elif color in Beige:\n",
    "            return \"beige\"\n",
    "        elif color in Brown:\n",
    "            return \"brown\"\n",
    "        elif color in Red:\n",
    "            return \"red\"\n",
    "        else:\n",
    "            return \"uncommon\"\n",
    "    \n",
    "    df['int_col'] = df['int_col'].apply(condition_int)\n",
    "    \n",
    "    return df "
   ]
  },
  {
   "cell_type": "code",
   "execution_count": null,
   "metadata": {
    "execution": {
     "iopub.execute_input": "2025-09-13T16:28:00.013258Z",
     "iopub.status.busy": "2025-09-13T16:28:00.012701Z",
     "iopub.status.idle": "2025-09-13T16:28:00.018859Z",
     "shell.execute_reply": "2025-09-13T16:28:00.017933Z",
     "shell.execute_reply.started": "2025-09-13T16:28:00.013235Z"
    },
    "trusted": true
   },
   "outputs": [],
   "source": [
    "def update(df): \n",
    "    \"\"\"\n",
    "    Cleans a DataFrame by handling missing values and grouping\n",
    "    infrequent categorical values into a 'noise' category.\n",
    "    \"\"\"\n",
    "    t = 20 # 50, 100 \n",
    "    df = df.copy()\n",
    "\n",
    "    cat_c = df.select_dtypes(include=['category', 'object']).columns.tolist()\n",
    "    numeric = df.select_dtypes(include=['int', 'float']).columns.tolist()\n",
    "    \n",
    "    # Process categorical columns\n",
    "    for col in cat_c:\n",
    "        df[col] = df[col].fillna('missing')\n",
    "        counts = df[col].value_counts()\n",
    "        # Identify categories with counts less than the threshold 't'\n",
    "        noise_categories = counts[counts < t].index\n",
    "        # Replace infrequent categories with \"noise\"\n",
    "        df.loc[df[col].isin(noise_categories), col] = \"noise\"\n",
    "        df[col] = df[col].astype('category')\n",
    "        \n",
    "    # Process numeric columns\n",
    "    for col in numeric:\n",
    "        df[col] = df[col].fillna(df[col].median())\n",
    "    \n",
    "    \n",
    "    if 'is_luxury_brand' in df.columns:\n",
    "        df['is_luxury_brand'] = df['is_luxury_brand'].astype('category')\n",
    "    \n",
    "    return df"
   ]
  },
  {
   "cell_type": "code",
   "execution_count": null,
   "metadata": {
    "execution": {
     "iopub.execute_input": "2025-09-13T16:32:13.039819Z",
     "iopub.status.busy": "2025-09-13T16:32:13.039116Z",
     "iopub.status.idle": "2025-09-13T16:32:20.225850Z",
     "shell.execute_reply": "2025-09-13T16:32:20.224984Z",
     "shell.execute_reply.started": "2025-09-13T16:32:13.039791Z"
    },
    "trusted": true
   },
   "outputs": [],
   "source": [
    "train = extract_age_features(train)\n",
    "train = extract_color(train)\n",
    "train = luxury_feature(train)\n",
    "train = extract_engine_trans(train)\n",
    "train = update(train)\n",
    "\n",
    "test = extract_age_features(test)\n",
    "test = extract_color(test) \n",
    "test = luxury_feature(test) \n",
    "test = extract_engine_trans(test)\n",
    "test = update(test)  "
   ]
  },
  {
   "cell_type": "code",
   "execution_count": null,
   "metadata": {
    "execution": {
     "iopub.execute_input": "2025-09-13T16:32:46.308366Z",
     "iopub.status.busy": "2025-09-13T16:32:46.308089Z",
     "iopub.status.idle": "2025-09-13T16:32:46.325695Z",
     "shell.execute_reply": "2025-09-13T16:32:46.324975Z",
     "shell.execute_reply.started": "2025-09-13T16:32:46.308346Z"
    },
    "trusted": true
   },
   "outputs": [],
   "source": [
    "test.info() "
   ]
  },
  {
   "cell_type": "code",
   "execution_count": null,
   "metadata": {
    "execution": {
     "iopub.execute_input": "2025-09-13T16:32:54.982571Z",
     "iopub.status.busy": "2025-09-13T16:32:54.982028Z",
     "iopub.status.idle": "2025-09-13T16:32:55.010083Z",
     "shell.execute_reply": "2025-09-13T16:32:55.009372Z",
     "shell.execute_reply.started": "2025-09-13T16:32:54.982550Z"
    },
    "trusted": true
   },
   "outputs": [],
   "source": [
    "train.sample(n=5, random_state = 42)  "
   ]
  },
  {
   "cell_type": "code",
   "execution_count": null,
   "metadata": {
    "execution": {
     "iopub.execute_input": "2025-09-13T16:33:06.226813Z",
     "iopub.status.busy": "2025-09-13T16:33:06.226273Z",
     "iopub.status.idle": "2025-09-13T16:33:06.248806Z",
     "shell.execute_reply": "2025-09-13T16:33:06.248077Z",
     "shell.execute_reply.started": "2025-09-13T16:33:06.226792Z"
    },
    "trusted": true
   },
   "outputs": [],
   "source": [
    "train.info() "
   ]
  },
  {
   "cell_type": "code",
   "execution_count": null,
   "metadata": {
    "execution": {
     "iopub.execute_input": "2025-09-13T16:33:14.602051Z",
     "iopub.status.busy": "2025-09-13T16:33:14.601486Z",
     "iopub.status.idle": "2025-09-13T16:33:14.609137Z",
     "shell.execute_reply": "2025-09-13T16:33:14.608421Z",
     "shell.execute_reply.started": "2025-09-13T16:33:14.602029Z"
    },
    "trusted": true
   },
   "outputs": [],
   "source": [
    "train['transmission_type'].value_counts() "
   ]
  },
  {
   "cell_type": "code",
   "execution_count": null,
   "metadata": {
    "trusted": true
   },
   "outputs": [],
   "source": []
  },
  {
   "cell_type": "code",
   "execution_count": null,
   "metadata": {
    "execution": {
     "iopub.execute_input": "2025-09-13T16:33:44.832990Z",
     "iopub.status.busy": "2025-09-13T16:33:44.832323Z",
     "iopub.status.idle": "2025-09-13T16:33:44.848056Z",
     "shell.execute_reply": "2025-09-13T16:33:44.847481Z",
     "shell.execute_reply.started": "2025-09-13T16:33:44.832966Z"
    },
    "trusted": true
   },
   "outputs": [],
   "source": [
    "# dropping 'clean_title', 'model_year', 'engine', ('milage', 'brand', 'transmission')  \n",
    "\n",
    "train.drop(columns=['clean_title', 'model_year', 'engine'], inplace=True) \n",
    "test.drop(columns=['clean_title', 'model_year', 'engine'], inplace=True) "
   ]
  },
  {
   "cell_type": "code",
   "execution_count": null,
   "metadata": {
    "execution": {
     "iopub.execute_input": "2025-09-13T16:34:11.678109Z",
     "iopub.status.busy": "2025-09-13T16:34:11.677529Z",
     "iopub.status.idle": "2025-09-13T16:34:11.681101Z",
     "shell.execute_reply": "2025-09-13T16:34:11.680231Z",
     "shell.execute_reply.started": "2025-09-13T16:34:11.678090Z"
    },
    "trusted": true
   },
   "outputs": [],
   "source": [
    "# test.info() "
   ]
  },
  {
   "cell_type": "code",
   "execution_count": null,
   "metadata": {
    "execution": {
     "iopub.execute_input": "2025-09-13T16:37:10.217065Z",
     "iopub.status.busy": "2025-09-13T16:37:10.216774Z",
     "iopub.status.idle": "2025-09-13T16:37:10.222273Z",
     "shell.execute_reply": "2025-09-13T16:37:10.221515Z",
     "shell.execute_reply.started": "2025-09-13T16:37:10.217044Z"
    },
    "trusted": true
   },
   "outputs": [],
   "source": [
    "cat_cols = test.select_dtypes(include=['object', 'category']).columns.tolist() "
   ]
  },
  {
   "cell_type": "code",
   "execution_count": null,
   "metadata": {
    "execution": {
     "iopub.execute_input": "2025-09-13T16:37:20.242050Z",
     "iopub.status.busy": "2025-09-13T16:37:20.241269Z",
     "iopub.status.idle": "2025-09-13T16:37:20.246590Z",
     "shell.execute_reply": "2025-09-13T16:37:20.245858Z",
     "shell.execute_reply.started": "2025-09-13T16:37:20.242027Z"
    },
    "trusted": true
   },
   "outputs": [],
   "source": [
    "cat_cols"
   ]
  },
  {
   "cell_type": "code",
   "execution_count": null,
   "metadata": {
    "execution": {
     "iopub.execute_input": "2025-09-13T16:38:05.445411Z",
     "iopub.status.busy": "2025-09-13T16:38:05.445137Z",
     "iopub.status.idle": "2025-09-13T16:38:05.448925Z",
     "shell.execute_reply": "2025-09-13T16:38:05.448235Z",
     "shell.execute_reply.started": "2025-09-13T16:38:05.445390Z"
    },
    "trusted": true
   },
   "outputs": [],
   "source": [
    "# train.sample(n=3, random_state=42)\n",
    "# test.info() "
   ]
  },
  {
   "cell_type": "code",
   "execution_count": null,
   "metadata": {
    "execution": {
     "iopub.execute_input": "2025-09-13T16:38:38.818913Z",
     "iopub.status.busy": "2025-09-13T16:38:38.818632Z",
     "iopub.status.idle": "2025-09-13T16:38:38.822518Z",
     "shell.execute_reply": "2025-09-13T16:38:38.821723Z",
     "shell.execute_reply.started": "2025-09-13T16:38:38.818894Z"
    },
    "trusted": true
   },
   "outputs": [],
   "source": [
    "#cat_features = test.select_dtypes(include=['object', 'category']).columns\n",
    "\n",
    "#for feature in cat_features:          \n",
    "    #categories = sorted(list(set(train[feature].dropna())))\n",
    "    #dtype = pd.CategoricalDtype(categories=categories, ordered=False)\n",
    "    \n",
    "    #train.loc[~train[feature].isin(categories), feature] = np.nan\n",
    "    #test.loc[~test[feature].isin(categories), feature] = np.nan\n",
    "    \n",
    "    #train[feature] = train[feature].astype(dtype)\n",
    "    #test[feature] = test[feature].astype(dtype) "
   ]
  },
  {
   "cell_type": "code",
   "execution_count": null,
   "metadata": {
    "trusted": true
   },
   "outputs": [],
   "source": [
    "  "
   ]
  },
  {
   "cell_type": "markdown",
   "metadata": {},
   "source": [
    "# Model Training  "
   ]
  },
  {
   "cell_type": "code",
   "execution_count": null,
   "metadata": {
    "execution": {
     "iopub.execute_input": "2025-09-13T16:25:48.063561Z",
     "iopub.status.busy": "2025-09-13T16:25:48.063306Z",
     "iopub.status.idle": "2025-09-13T16:25:48.067379Z",
     "shell.execute_reply": "2025-09-13T16:25:48.066593Z",
     "shell.execute_reply.started": "2025-09-13T16:25:48.063543Z"
    },
    "trusted": true
   },
   "outputs": [],
   "source": [
    "#test['model'].value_counts() \n",
    "#test['model'] = test['model'].fillna('missing') "
   ]
  },
  {
   "cell_type": "code",
   "execution_count": null,
   "metadata": {
    "execution": {
     "iopub.execute_input": "2025-09-13T16:38:50.361672Z",
     "iopub.status.busy": "2025-09-13T16:38:50.361409Z",
     "iopub.status.idle": "2025-09-13T16:38:50.376272Z",
     "shell.execute_reply": "2025-09-13T16:38:50.375613Z",
     "shell.execute_reply.started": "2025-09-13T16:38:50.361653Z"
    },
    "trusted": true
   },
   "outputs": [],
   "source": [
    "X_train = train.drop(columns=[\"id\", \"price\"])\n",
    "y_train = train[\"price\"]\n",
    "\n",
    "X_test = test.drop(columns=[\"id\"]) "
   ]
  },
  {
   "cell_type": "code",
   "execution_count": null,
   "metadata": {
    "execution": {
     "iopub.execute_input": "2025-09-13T16:39:33.860780Z",
     "iopub.status.busy": "2025-09-13T16:39:33.860479Z",
     "iopub.status.idle": "2025-09-13T16:39:33.864271Z",
     "shell.execute_reply": "2025-09-13T16:39:33.863428Z",
     "shell.execute_reply.started": "2025-09-13T16:39:33.860759Z"
    },
    "trusted": true
   },
   "outputs": [],
   "source": [
    "# X_train.info() "
   ]
  },
  {
   "cell_type": "markdown",
   "metadata": {},
   "source": [
    "# XGBoost"
   ]
  },
  {
   "cell_type": "code",
   "execution_count": null,
   "metadata": {
    "execution": {
     "iopub.execute_input": "2025-09-13T15:38:59.932581Z",
     "iopub.status.busy": "2025-09-13T15:38:59.932306Z",
     "iopub.status.idle": "2025-09-13T15:38:59.938570Z",
     "shell.execute_reply": "2025-09-13T15:38:59.937805Z",
     "shell.execute_reply.started": "2025-09-13T15:38:59.932560Z"
    },
    "trusted": true
   },
   "outputs": [],
   "source": [
    "def cross_validate_model_x(model, X_train, y_train, params, n_splits=5):\n",
    "\n",
    "    # Initialize variables\n",
    "    cv = KFold(n_splits=n_splits, shuffle=True, random_state=42)\n",
    "    val_scores = []\n",
    "    test_preds = np.zeros((len(X_test), n_splits), dtype=np.float32)\n",
    "    # Cross-validation loop\n",
    "    for fold, (train_ind, valid_ind) in enumerate(cv.split(X_train)):\n",
    "        # Data splitting\n",
    "        X_fold_train = X_train.iloc[train_ind]\n",
    "        y_fold_train = y_train.iloc[train_ind]\n",
    "        X_val = X_train.iloc[valid_ind]\n",
    "        y_val = y_train.iloc[valid_ind]\n",
    "\n",
    "        # Model initialization and training\n",
    "        clf = model(**params, enable_categorical=True)\n",
    "        #clf.fit(X_fold_train, y_fold_train)\n",
    "        clf.fit(X_fold_train, y_fold_train,  eval_set=[(X_val, y_val)],verbose=500, early_stopping_rounds=50)\n",
    "        # Predict and evaluate\n",
    "        test_preds[:, fold] = clf.predict(X_test)\n",
    "\n",
    "        print(\"-\" * 50)\n",
    "        print(test_preds)\n",
    "\n",
    "    test_preds= np.mean(test_preds, axis=1)\n",
    "    return clf,test_preds "
   ]
  },
  {
   "cell_type": "code",
   "execution_count": null,
   "metadata": {
    "execution": {
     "iopub.execute_input": "2025-09-13T15:39:17.552116Z",
     "iopub.status.busy": "2025-09-13T15:39:17.551822Z",
     "iopub.status.idle": "2025-09-13T15:41:45.809580Z",
     "shell.execute_reply": "2025-09-13T15:41:45.808929Z",
     "shell.execute_reply.started": "2025-09-13T15:39:17.552097Z"
    },
    "trusted": true
   },
   "outputs": [],
   "source": [
    "xgb_params={\n",
    "    \n",
    "'lambda': 0.17694956261235095,\n",
    " 'alpha': 1.3889763984339085,\n",
    " 'colsample_bytree': 0.7,\n",
    " 'subsample': 1.0,\n",
    " 'learning_rate': 0.008,\n",
    " 'max_depth': 17,\n",
    " 'random_state': 2020,\n",
    " 'min_child_weight': 59,\n",
    " 'n_estimators': 10_000,\n",
    " 'tree_method': 'gpu_hist'\n",
    " \n",
    "}\n",
    "\n",
    "\n",
    "print('XGBoost Cross-Validation Results:\\n')\n",
    "xgb_model, test_preds_xgb = cross_validate_model_x(XGBRegressor, X_train, y_train, xgb_params) "
   ]
  },
  {
   "cell_type": "code",
   "execution_count": null,
   "metadata": {
    "execution": {
     "iopub.execute_input": "2025-09-13T17:19:17.895592Z",
     "iopub.status.busy": "2025-09-13T17:19:17.895037Z",
     "iopub.status.idle": "2025-09-13T17:19:17.930122Z",
     "shell.execute_reply": "2025-09-13T17:19:17.929433Z",
     "shell.execute_reply.started": "2025-09-13T17:19:17.895561Z"
    },
    "trusted": true
   },
   "outputs": [],
   "source": [
    "xgb_result =  pd.read_csv('/kaggle/input/hackathon-qualification/archive/sample_submission.csv')\n",
    "xgb_result['price'] = test_preds_xgb.astype(np.float32)\n",
    "xgb_result "
   ]
  },
  {
   "cell_type": "code",
   "execution_count": null,
   "metadata": {
    "execution": {
     "iopub.execute_input": "2025-09-13T15:45:29.045935Z",
     "iopub.status.busy": "2025-09-13T15:45:29.045209Z",
     "iopub.status.idle": "2025-09-13T15:45:29.049473Z",
     "shell.execute_reply": "2025-09-13T15:45:29.048684Z",
     "shell.execute_reply.started": "2025-09-13T15:45:29.045902Z"
    },
    "trusted": true
   },
   "outputs": [],
   "source": [
    "# X_test.info() "
   ]
  },
  {
   "cell_type": "markdown",
   "metadata": {},
   "source": [
    "# LGBM "
   ]
  },
  {
   "cell_type": "code",
   "execution_count": null,
   "metadata": {
    "execution": {
     "iopub.execute_input": "2025-09-13T15:47:58.233958Z",
     "iopub.status.busy": "2025-09-13T15:47:58.233638Z",
     "iopub.status.idle": "2025-09-13T15:47:58.240253Z",
     "shell.execute_reply": "2025-09-13T15:47:58.239463Z",
     "shell.execute_reply.started": "2025-09-13T15:47:58.233936Z"
    },
    "trusted": true
   },
   "outputs": [],
   "source": [
    "def cross_validate_model_l(model, X_train, y_train, params, n_splits=10):\n",
    "\n",
    "    # Initialize variables\n",
    "    callbacks = [log_evaluation(period=150), early_stopping(stopping_rounds=200)]\n",
    "    cv = KFold(n_splits=n_splits, shuffle=True, random_state=42)\n",
    "    val_scores = []\n",
    "    test_preds = np.zeros((len(X_test), n_splits), dtype=np.float32)\n",
    "    # Cross-validation loop\n",
    "    for fold, (train_ind, valid_ind) in enumerate(cv.split(X_train)):\n",
    "        # Data splitting\n",
    "        X_fold_train = X_train.iloc[train_ind]\n",
    "        y_fold_train = y_train.iloc[train_ind]\n",
    "        X_val = X_train.iloc[valid_ind]\n",
    "        y_val = y_train.iloc[valid_ind] \n",
    "\n",
    "        # Model initialization and training\n",
    "        clf = model(**params)\n",
    "        #clf.fit(X_fold_train, y_fold_train)\n",
    "        clf.fit(X_fold_train, y_fold_train, eval_set=[(X_val, y_val)], callbacks=callbacks )\n",
    "        # Predict and evaluate\n",
    "        test_preds[:, fold] = clf.predict(X_test)\n",
    "\n",
    "        print(\"-\" * 50)\n",
    "        print(test_preds)\n",
    "\n",
    "    test_preds= np.mean(test_preds, axis=1)\n",
    "    return clf,test_preds "
   ]
  },
  {
   "cell_type": "code",
   "execution_count": null,
   "metadata": {
    "execution": {
     "iopub.execute_input": "2025-09-13T15:52:26.665815Z",
     "iopub.status.busy": "2025-09-13T15:52:26.665531Z",
     "iopub.status.idle": "2025-09-13T15:56:28.465276Z",
     "shell.execute_reply": "2025-09-13T15:56:28.464495Z",
     "shell.execute_reply.started": "2025-09-13T15:52:26.665793Z"
    },
    "trusted": true
   },
   "outputs": [],
   "source": [
    "from lightgbm import LGBMRegressor\n",
    "# params are taken from this notebook: https://www.kaggle.com/code/noodl35/optuna-lgbm-tuning-used-cars\n",
    "\n",
    "lgb_params = {\n",
    "                'num_leaves': 426,\n",
    "                 'max_depth': 20,\n",
    "                 'learning_rate': 0.011353178352988012,\n",
    "                 'n_estimators': 10000,\n",
    "                 'metric': 'rmse',\n",
    "                 'subsample': 0.5772552201954328,\n",
    "                 'colsample_bytree': 0.9164865430101521,\n",
    "                 'reg_alpha': 1.48699088003429e-06,\n",
    "                 'reg_lambda': 0.41539458543414265,\n",
    "                 'min_data_in_leaf': 73,\n",
    "                 'feature_fraction': 0.751673655170548,\n",
    "                 'bagging_fraction': 0.5120415391590843,\n",
    "                 'bagging_freq': 2,\n",
    "                 'random_state': 42,\n",
    "                 'min_child_weight': 0.017236362383443497,\n",
    "                 'cat_smooth': 54.81317407769262,\n",
    "                 'verbose' : -1             # Set to -1 for silent mode, no process information printed\n",
    "}\n",
    "\n",
    "print('LightGBM Cross-Validation Results:\\n')\n",
    "lgb_model,test_preds_lgbm = cross_validate_model_l(LGBMRegressor, X_train, y_train, lgb_params)"
   ]
  },
  {
   "cell_type": "code",
   "execution_count": null,
   "metadata": {
    "execution": {
     "iopub.execute_input": "2025-09-13T15:57:14.112462Z",
     "iopub.status.busy": "2025-09-13T15:57:14.111727Z",
     "iopub.status.idle": "2025-09-13T15:57:14.185931Z",
     "shell.execute_reply": "2025-09-13T15:57:14.185209Z",
     "shell.execute_reply.started": "2025-09-13T15:57:14.112436Z"
    },
    "trusted": true
   },
   "outputs": [],
   "source": [
    "lgb_result =  pd.read_csv('/kaggle/input/hackathon-qualification/archive/sample_submission.csv')\n",
    "lgb_result['price'] = test_preds_lgbm.astype(np.float32)\n",
    "lgb_result "
   ]
  },
  {
   "cell_type": "code",
   "execution_count": null,
   "metadata": {
    "trusted": true
   },
   "outputs": [],
   "source": []
  },
  {
   "cell_type": "markdown",
   "metadata": {},
   "source": [
    "# CatBoost "
   ]
  },
  {
   "cell_type": "code",
   "execution_count": null,
   "metadata": {
    "execution": {
     "iopub.execute_input": "2025-09-13T16:39:47.593664Z",
     "iopub.status.busy": "2025-09-13T16:39:47.593068Z",
     "iopub.status.idle": "2025-09-13T16:39:47.600159Z",
     "shell.execute_reply": "2025-09-13T16:39:47.599265Z",
     "shell.execute_reply.started": "2025-09-13T16:39:47.593640Z"
    },
    "trusted": true
   },
   "outputs": [],
   "source": [
    "def cross_validate_model_c(model, X_train, y_train, params, n_splits=10):\n",
    "\n",
    "    # Initialize variables \n",
    "    \n",
    "    cv = KFold(n_splits=n_splits, shuffle=True, random_state= 42) \n",
    "    val_scores = []\n",
    "    test_preds = np.zeros((len(X_test), n_splits), dtype=np.float32)\n",
    "    # Cross-validation loop\n",
    "    for fold, (train_ind, valid_ind) in enumerate(cv.split(X_train)):\n",
    "        # Data splitting\n",
    "        X_fold_train = X_train.iloc[train_ind]\n",
    "        y_fold_train = y_train.iloc[train_ind]\n",
    "        X_val = X_train.iloc[valid_ind]\n",
    "        y_val = y_train.iloc[valid_ind]\n",
    "\n",
    "        # Model initialization and training\n",
    "        clf = model(**params)\n",
    "        #clf.fit(X_fold_train, y_fold_train)\n",
    "        clf.fit(X_fold_train, y_fold_train, eval_set=[(X_val, y_val)], verbose=0)\n",
    "        # Predict and evaluate\n",
    "        test_preds[:, fold] = clf.predict(X_test)\n",
    "\n",
    "        print(\"-\" * 50)\n",
    "        print(test_preds)\n",
    "\n",
    "    test_preds= np.mean(test_preds, axis=1)\n",
    "    return clf,test_preds "
   ]
  },
  {
   "cell_type": "code",
   "execution_count": null,
   "metadata": {
    "execution": {
     "iopub.execute_input": "2025-09-13T16:40:04.624456Z",
     "iopub.status.busy": "2025-09-13T16:40:04.623747Z",
     "iopub.status.idle": "2025-09-13T16:40:04.627673Z",
     "shell.execute_reply": "2025-09-13T16:40:04.626810Z",
     "shell.execute_reply.started": "2025-09-13T16:40:04.624429Z"
    },
    "trusted": true
   },
   "outputs": [],
   "source": [
    "# X_test.info() "
   ]
  },
  {
   "cell_type": "code",
   "execution_count": null,
   "metadata": {
    "execution": {
     "iopub.execute_input": "2025-09-13T16:40:09.552415Z",
     "iopub.status.busy": "2025-09-13T16:40:09.551793Z",
     "iopub.status.idle": "2025-09-13T17:14:20.051562Z",
     "shell.execute_reply": "2025-09-13T17:14:20.050747Z",
     "shell.execute_reply.started": "2025-09-13T16:40:09.552393Z"
    },
    "trusted": true
   },
   "outputs": [],
   "source": [
    "from catboost import CatBoostRegressor \n",
    "\n",
    "cat_params = {\n",
    "    'cat_features':cat_cols,  \n",
    "    'learning_rate': 0.075,\n",
    "    'iterations': 5000,\n",
    "    'depth': 9,\n",
    "    'random_strength': 0,\n",
    "    'l2_leaf_reg': 0.5,\n",
    "    'task_type': 'GPU',\n",
    "    'max_leaves': 512,\n",
    "    'fold_permutation_block': 64,\n",
    "    'random_seed': 42,\n",
    "    'verbose': False                      \n",
    "}\n",
    "\n",
    "print('CatBoost Cross-Validation Results:\\n')\n",
    "cat_model, test_preds_cat = cross_validate_model_c(CatBoostRegressor, X_train, y_train, cat_params) "
   ]
  },
  {
   "cell_type": "code",
   "execution_count": null,
   "metadata": {
    "execution": {
     "iopub.execute_input": "2025-09-13T17:17:14.915804Z",
     "iopub.status.busy": "2025-09-13T17:17:14.915508Z",
     "iopub.status.idle": "2025-09-13T17:17:14.952284Z",
     "shell.execute_reply": "2025-09-13T17:17:14.951605Z",
     "shell.execute_reply.started": "2025-09-13T17:17:14.915783Z"
    },
    "trusted": true
   },
   "outputs": [],
   "source": [
    "cat_result =  pd.read_csv('/kaggle/input/hackathon-qualification/archive/sample_submission.csv')\n",
    "cat_result['price'] = test_preds_cat.astype(np.float32)\n",
    "cat_result "
   ]
  },
  {
   "cell_type": "code",
   "execution_count": null,
   "metadata": {
    "trusted": true
   },
   "outputs": [],
   "source": []
  },
  {
   "cell_type": "markdown",
   "metadata": {},
   "source": [
    "# Prediction Ensemble"
   ]
  },
  {
   "cell_type": "code",
   "execution_count": null,
   "metadata": {
    "execution": {
     "iopub.execute_input": "2025-09-13T17:40:52.474981Z",
     "iopub.status.busy": "2025-09-13T17:40:52.474663Z",
     "iopub.status.idle": "2025-09-13T17:40:52.486149Z",
     "shell.execute_reply": "2025-09-13T17:40:52.485439Z",
     "shell.execute_reply.started": "2025-09-13T17:40:52.474958Z"
    },
    "trusted": true
   },
   "outputs": [],
   "source": [
    "Pred = pd.concat([lgb_result,cat_result,xgb_result], axis=1)['price']\n",
    "print(Pred)\n",
    "test_preds = test_preds_lgbm * 0.7 + test_preds_cat * 0.1 + test_preds_xgb * 0.2\n",
    "# test_preds_1 = test_preds_lgbm * 0.4 + test_preds_cat * 0.3 + test_preds_xgb * 0.3 \n",
    "# test_preds_2 = test_preds_lgbm"
   ]
  },
  {
   "cell_type": "code",
   "execution_count": null,
   "metadata": {
    "execution": {
     "iopub.execute_input": "2025-09-13T17:43:54.669352Z",
     "iopub.status.busy": "2025-09-13T17:43:54.669060Z",
     "iopub.status.idle": "2025-09-13T17:43:54.868974Z",
     "shell.execute_reply": "2025-09-13T17:43:54.868386Z",
     "shell.execute_reply.started": "2025-09-13T17:43:54.669331Z"
    },
    "trusted": true
   },
   "outputs": [],
   "source": [
    "ensemble_sub =  pd.read_csv('/kaggle/input/hackathon-qualification/archive/sample_submission.csv')\n",
    "ensemble_sub['price'] = test_preds # test_preds_1 \n",
    "\n",
    "# lgbm_sub =  pd.read_csv('/kaggle/input/hackathon-qualification/archive/sample_submission.csv')\n",
    "# lgbm_sub['price'] = test_preds_2\n",
    "\n",
    "ensemble_sub.to_csv('submission.csv', index=False) \n",
    "# lgbm_sub.to_csv('submission_5.csv', index = False) "
   ]
  },
  {
   "cell_type": "code",
   "execution_count": null,
   "metadata": {
    "trusted": true
   },
   "outputs": [],
   "source": []
  }
 ],
 "metadata": {
  "kaggle": {
   "accelerator": "gpu",
   "dataSources": [
    {
     "databundleVersionId": 13542141,
     "sourceId": 113485,
     "sourceType": "competition"
    },
    {
     "datasetId": 3742543,
     "sourceId": 6478229,
     "sourceType": "datasetVersion"
    }
   ],
   "dockerImageVersionId": 31090,
   "isGpuEnabled": true,
   "isInternetEnabled": true,
   "language": "python",
   "sourceType": "notebook"
  },
  "kernelspec": {
   "display_name": "Python 3",
   "language": "python",
   "name": "python3"
  },
  "language_info": {
   "codemirror_mode": {
    "name": "ipython",
    "version": 3
   },
   "file_extension": ".py",
   "mimetype": "text/x-python",
   "name": "python",
   "nbconvert_exporter": "python",
   "pygments_lexer": "ipython3",
   "version": "3.11.13"
  }
 },
 "nbformat": 4,
 "nbformat_minor": 4
}
